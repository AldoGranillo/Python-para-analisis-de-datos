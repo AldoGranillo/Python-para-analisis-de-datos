{
 "cells": [
  {
   "cell_type": "markdown",
   "metadata": {},
   "source": [
    "## CAPITULO 4.Fundamentos de Numpy: arrays y computacion vectorizada\n",
    "Hola sean bienvenidos a esta serie de videos de analisis de datos con python nos estaremos basando en el siguiente libro partiremos del capitulo 4 "
   ]
  },
  {
   "cell_type": "code",
   "execution_count": 1,
   "metadata": {},
   "outputs": [
    {
     "name": "stdout",
     "output_type": "stream",
     "text": [
      "[50, 50, 47, 97, 49, 3, 53, 42, 26, 74, 82, 62, 37, 15, 70, 27, 36, 35, 48, 52, 63, 64]\n"
     ]
    }
   ],
   "source": [
    "data = [50,50,47,97,49,3,53,42,26,74,82,62,37,15,70,27,36,35,48,52,63,64] #esta es una lista\n",
    "print(data)"
   ]
  },
  {
   "cell_type": "code",
   "execution_count": 4,
   "metadata": {},
   "outputs": [
    {
     "name": "stdout",
     "output_type": "stream",
     "text": [
      "[50 50 47 97 49  3 53 42 26 74 82 62 37 15 70 27 36 35 48 52 63 64]\n",
      "Este es un array desde 0 con numpy:  [1 2 4]\n"
     ]
    }
   ],
   "source": [
    "import numpy as np\n",
    "#Convietiendo una list en un numpy array \n",
    "grades = np.array(data)\n",
    "print(grades)\n",
    "#tambien podemos crear un narray de la siguiente forma sin necesidad de pasarle una lista previa\n",
    "Array= np.array([1,2,4])\n",
    "print(f\"Este es un array desde 0 con numpy: \", Array)"
   ]
  },
  {
   "cell_type": "code",
   "execution_count": 5,
   "metadata": {},
   "outputs": [
    {
     "data": {
      "text/plain": [
       "[50,\n",
       " 50,\n",
       " 47,\n",
       " 97,\n",
       " 49,\n",
       " 3,\n",
       " 53,\n",
       " 42,\n",
       " 26,\n",
       " 74,\n",
       " 82,\n",
       " 62,\n",
       " 37,\n",
       " 15,\n",
       " 70,\n",
       " 27,\n",
       " 36,\n",
       " 35,\n",
       " 48,\n",
       " 52,\n",
       " 63,\n",
       " 64,\n",
       " 50,\n",
       " 50,\n",
       " 47,\n",
       " 97,\n",
       " 49,\n",
       " 3,\n",
       " 53,\n",
       " 42,\n",
       " 26,\n",
       " 74,\n",
       " 82,\n",
       " 62,\n",
       " 37,\n",
       " 15,\n",
       " 70,\n",
       " 27,\n",
       " 36,\n",
       " 35,\n",
       " 48,\n",
       " 52,\n",
       " 63,\n",
       " 64,\n",
       " 50,\n",
       " 50,\n",
       " 47,\n",
       " 97,\n",
       " 49,\n",
       " 3,\n",
       " 53,\n",
       " 42,\n",
       " 26,\n",
       " 74,\n",
       " 82,\n",
       " 62,\n",
       " 37,\n",
       " 15,\n",
       " 70,\n",
       " 27,\n",
       " 36,\n",
       " 35,\n",
       " 48,\n",
       " 52,\n",
       " 63,\n",
       " 64,\n",
       " 50,\n",
       " 50,\n",
       " 47,\n",
       " 97,\n",
       " 49,\n",
       " 3,\n",
       " 53,\n",
       " 42,\n",
       " 26,\n",
       " 74,\n",
       " 82,\n",
       " 62,\n",
       " 37,\n",
       " 15,\n",
       " 70,\n",
       " 27,\n",
       " 36,\n",
       " 35,\n",
       " 48,\n",
       " 52,\n",
       " 63,\n",
       " 64,\n",
       " 50,\n",
       " 50,\n",
       " 47,\n",
       " 97,\n",
       " 49,\n",
       " 3,\n",
       " 53,\n",
       " 42,\n",
       " 26,\n",
       " 74,\n",
       " 82,\n",
       " 62,\n",
       " 37,\n",
       " 15,\n",
       " 70,\n",
       " 27,\n",
       " 36,\n",
       " 35,\n",
       " 48,\n",
       " 52,\n",
       " 63,\n",
       " 64,\n",
       " 50,\n",
       " 50,\n",
       " 47,\n",
       " 97,\n",
       " 49,\n",
       " 3,\n",
       " 53,\n",
       " 42,\n",
       " 26,\n",
       " 74,\n",
       " 82,\n",
       " 62,\n",
       " 37,\n",
       " 15,\n",
       " 70,\n",
       " 27,\n",
       " 36,\n",
       " 35,\n",
       " 48,\n",
       " 52,\n",
       " 63,\n",
       " 64,\n",
       " 50,\n",
       " 50,\n",
       " 47,\n",
       " 97,\n",
       " 49,\n",
       " 3,\n",
       " 53,\n",
       " 42,\n",
       " 26,\n",
       " 74,\n",
       " 82,\n",
       " 62,\n",
       " 37,\n",
       " 15,\n",
       " 70,\n",
       " 27,\n",
       " 36,\n",
       " 35,\n",
       " 48,\n",
       " 52,\n",
       " 63,\n",
       " 64,\n",
       " 50,\n",
       " 50,\n",
       " 47,\n",
       " 97,\n",
       " 49,\n",
       " 3,\n",
       " 53,\n",
       " 42,\n",
       " 26,\n",
       " 74,\n",
       " 82,\n",
       " 62,\n",
       " 37,\n",
       " 15,\n",
       " 70,\n",
       " 27,\n",
       " 36,\n",
       " 35,\n",
       " 48,\n",
       " 52,\n",
       " 63,\n",
       " 64,\n",
       " 50,\n",
       " 50,\n",
       " 47,\n",
       " 97,\n",
       " 49,\n",
       " 3,\n",
       " 53,\n",
       " 42,\n",
       " 26,\n",
       " 74,\n",
       " 82,\n",
       " 62,\n",
       " 37,\n",
       " 15,\n",
       " 70,\n",
       " 27,\n",
       " 36,\n",
       " 35,\n",
       " 48,\n",
       " 52,\n",
       " 63,\n",
       " 64,\n",
       " 50,\n",
       " 50,\n",
       " 47,\n",
       " 97,\n",
       " 49,\n",
       " 3,\n",
       " 53,\n",
       " 42,\n",
       " 26,\n",
       " 74,\n",
       " 82,\n",
       " 62,\n",
       " 37,\n",
       " 15,\n",
       " 70,\n",
       " 27,\n",
       " 36,\n",
       " 35,\n",
       " 48,\n",
       " 52,\n",
       " 63,\n",
       " 64]"
      ]
     },
     "execution_count": 5,
     "metadata": {},
     "output_type": "execute_result"
    }
   ],
   "source": [
    "#Operaciones con numpy arrays \n",
    "data*10 #vector por un escalar\n"
   ]
  },
  {
   "cell_type": "code",
   "execution_count": 7,
   "metadata": {},
   "outputs": [
    {
     "data": {
      "text/plain": [
       "[50,\n",
       " 50,\n",
       " 47,\n",
       " 97,\n",
       " 49,\n",
       " 3,\n",
       " 53,\n",
       " 42,\n",
       " 26,\n",
       " 74,\n",
       " 82,\n",
       " 62,\n",
       " 37,\n",
       " 15,\n",
       " 70,\n",
       " 27,\n",
       " 36,\n",
       " 35,\n",
       " 48,\n",
       " 52,\n",
       " 63,\n",
       " 64,\n",
       " 50,\n",
       " 50,\n",
       " 47,\n",
       " 97,\n",
       " 49,\n",
       " 3,\n",
       " 53,\n",
       " 42,\n",
       " 26,\n",
       " 74,\n",
       " 82,\n",
       " 62,\n",
       " 37,\n",
       " 15,\n",
       " 70,\n",
       " 27,\n",
       " 36,\n",
       " 35,\n",
       " 48,\n",
       " 52,\n",
       " 63,\n",
       " 64]"
      ]
     },
     "execution_count": 7,
     "metadata": {},
     "output_type": "execute_result"
    }
   ],
   "source": [
    "data + data #suma de vectores\n"
   ]
  },
  {
   "cell_type": "code",
   "execution_count": 10,
   "metadata": {},
   "outputs": [
    {
     "name": "stdout",
     "output_type": "stream",
     "text": [
      "(3, 2)\n",
      "int32\n"
     ]
    }
   ],
   "source": [
    "\"\"\" \n",
    "Metodo shape: Sirve para mostrarnos la dimension de nuestro array\n",
    "\"\"\"\n",
    "#Vamos a crear un array de dimension 3x2\n",
    "arreglo= np.array([[1, 2],\n",
    "                  [3, 7],\n",
    "                  [3, 5]])\n",
    "print(arreglo.shape) #Primero son filas y luego columnas \n",
    "print(arreglo.dtype)#Tipo de datos de los arreglos "
   ]
  },
  {
   "cell_type": "code",
   "execution_count": 12,
   "metadata": {},
   "outputs": [
    {
     "data": {
      "text/plain": [
       "array([0., 0.])"
      ]
     },
     "execution_count": 12,
     "metadata": {},
     "output_type": "execute_result"
    }
   ],
   "source": [
    "#Tambien se pueden crear arreglos de \"prueba\" como los siguientes\n",
    "np.ones(10) #arreglo de 1 de 10 elementos\n",
    "np.zeros(2)# arreglo de 0 de los elementos"
   ]
  },
  {
   "cell_type": "code",
   "execution_count": 14,
   "metadata": {},
   "outputs": [
    {
     "data": {
      "text/plain": [
       "array([[[1.14694257e-311, 1.02271589e-321, 0.00000000e+000,\n",
       "         0.00000000e+000, 2.22523004e-307],\n",
       "        [5.02034658e+175, 1.76069614e-076, 5.40127864e-038,\n",
       "         5.24938254e+174, 1.81761410e+185],\n",
       "        [7.16247088e-038, 4.26215074e-096, 1.12855837e+277,\n",
       "         8.76730979e+252, 2.59027920e-144]],\n",
       "\n",
       "       [[3.80985069e+180, 1.14428494e+243, 2.59027907e-144,\n",
       "         7.79952704e-143, 1.42389203e+160],\n",
       "        [1.65561192e-047, 6.10111051e+170, 1.01405710e-070,\n",
       "         2.59027906e-144, 2.59903818e-144],\n",
       "        [6.19410690e-091, 4.91700970e-062, 1.79821234e-052,\n",
       "         1.11475752e+261, 1.16318408e-028]]])"
      ]
     },
     "execution_count": 14,
     "metadata": {},
     "output_type": "execute_result"
    }
   ],
   "source": [
    "np.empty((2, 3, 5)) #no necesariamente esta vacia si no que esta llena de lago denominado valores basura \n",
    "#se usa para rellenar arrays con algo"
   ]
  },
  {
   "cell_type": "code",
   "execution_count": 15,
   "metadata": {},
   "outputs": [
    {
     "data": {
      "text/plain": [
       "array([0, 1, 2])"
      ]
     },
     "execution_count": 15,
     "metadata": {},
     "output_type": "execute_result"
    }
   ],
   "source": [
    "np.arange(3) #Rellenara el array en un rango indicaco en este caso de 0 a 2"
   ]
  },
  {
   "cell_type": "code",
   "execution_count": 27,
   "metadata": {},
   "outputs": [
    {
     "name": "stdout",
     "output_type": "stream",
     "text": [
      "Arreglo data original:  [50, 50, 47, 97, 49, 3, 53, 42, 26, 74, 82, 62, 37, 15, 70, 27, 36, 35, 48, 52, 63, 64]\n",
      "[97, 49, 3, 53, 42]\n",
      "[7 8 9]\n",
      "3\n"
     ]
    }
   ],
   "source": [
    "#metodo slice CORTE retomando a data\n",
    "print(f\"Arreglo data original: \", data)\n",
    "print(data[3:8])#Indicamos el rango de corte en este caso 3 y 8\n",
    "\n",
    "#tambien se puede acceder a un registro de la siguiente manera\n",
    "arr2d = np.array([[1, 2, 3], [4, 5, 6], [7, 8, 9]])\n",
    "\n",
    "print(arr2d[2])\n",
    "print(arr2d[0][2])"
   ]
  },
  {
   "cell_type": "code",
   "execution_count": 29,
   "metadata": {},
   "outputs": [
    {
     "data": {
      "text/plain": [
       "array([[ 0,  1,  2,  3,  4],\n",
       "       [ 5,  6,  7,  8,  9],\n",
       "       [10, 11, 12, 13, 14]])"
      ]
     },
     "execution_count": 29,
     "metadata": {},
     "output_type": "execute_result"
    }
   ],
   "source": [
    "#Transponer arrays\n",
    "lista=np.arange(15).reshape((3,5))\n",
    "lista"
   ]
  },
  {
   "cell_type": "code",
   "execution_count": 30,
   "metadata": {},
   "outputs": [
    {
     "data": {
      "text/plain": [
       "array([[ 0,  5, 10],\n",
       "       [ 1,  6, 11],\n",
       "       [ 2,  7, 12],\n",
       "       [ 3,  8, 13],\n",
       "       [ 4,  9, 14]])"
      ]
     },
     "execution_count": 30,
     "metadata": {},
     "output_type": "execute_result"
    }
   ],
   "source": [
    "lista.T #este es el metodo para transponer de una forma sencilla \n",
    "#Esto sirve mucho debido a los frecuentes calculos de matrices se que se estaran realizando "
   ]
  },
  {
   "cell_type": "markdown",
   "metadata": {},
   "source": [
    "## Ejemplo :\n",
    "calcular el producto interno"
   ]
  },
  {
   "cell_type": "code",
   "execution_count": 31,
   "metadata": {},
   "outputs": [
    {
     "data": {
      "text/plain": [
       "array([[125, 140, 155, 170, 185],\n",
       "       [140, 158, 176, 194, 212],\n",
       "       [155, 176, 197, 218, 239],\n",
       "       [170, 194, 218, 242, 266],\n",
       "       [185, 212, 239, 266, 293]])"
      ]
     },
     "execution_count": 31,
     "metadata": {},
     "output_type": "execute_result"
    }
   ],
   "source": [
    "np.dot(lista.T, lista) \n",
    "#Tambien se puede usar @ print(lista.t @ lista)"
   ]
  },
  {
   "cell_type": "code",
   "execution_count": 32,
   "metadata": {},
   "outputs": [
    {
     "data": {
      "text/plain": [
       "array([[ 0,  5, 10],\n",
       "       [ 1,  6, 11],\n",
       "       [ 2,  7, 12],\n",
       "       [ 3,  8, 13],\n",
       "       [ 4,  9, 14]])"
      ]
     },
     "execution_count": 32,
     "metadata": {},
     "output_type": "execute_result"
    }
   ],
   "source": [
    "#Tambien existe el metodo swapaxes\n",
    "lista.swapaxes(0,1)"
   ]
  },
  {
   "cell_type": "markdown",
   "metadata": {},
   "source": [
    "## Generacion de numeros aleatorios"
   ]
  },
  {
   "cell_type": "code",
   "execution_count": 34,
   "metadata": {},
   "outputs": [
    {
     "data": {
      "text/plain": [
       "array([[-0.08293369, -1.13386245, -1.08784676,  0.01092086],\n",
       "       [ 0.33230909, -1.84503846,  0.32433866, -0.85359267],\n",
       "       [-0.26511075,  0.68056373, -0.6038452 ,  1.04224848],\n",
       "       [-0.14839029,  0.66892258,  0.78883279, -0.29368288]])"
      ]
     },
     "execution_count": 34,
     "metadata": {},
     "output_type": "execute_result"
    }
   ],
   "source": [
    "ejemplo= np.random.standard_normal(size=(4, 4))\n",
    "ejemplo"
   ]
  },
  {
   "cell_type": "code",
   "execution_count": 37,
   "metadata": {},
   "outputs": [
    {
     "name": "stdout",
     "output_type": "stream",
     "text": [
      "Generator(PCG64)\n"
     ]
    },
    {
     "data": {
      "text/plain": [
       "array([[-1.42382504,  1.26372846, -0.87066174],\n",
       "       [-0.25917323, -0.07534331, -0.74088465]])"
      ]
     },
     "execution_count": 37,
     "metadata": {},
     "output_type": "execute_result"
    }
   ],
   "source": [
    "rng = np.random.default_rng(seed=12345)\n",
    "print(rng)\n",
    "data = rng.standard_normal((2, 3))\n",
    "data"
   ]
  },
  {
   "cell_type": "markdown",
   "metadata": {},
   "source": [
    "## Funciones universales: funcionesrápidas de array elemento a elemento\n"
   ]
  },
  {
   "cell_type": "code",
   "execution_count": 40,
   "metadata": {},
   "outputs": [
    {
     "name": "stdout",
     "output_type": "stream",
     "text": [
      "Raiz:  [[0.         1.         1.41421356 1.73205081 2.        ]\n",
      " [2.23606798 2.44948974 2.64575131 2.82842712 3.        ]\n",
      " [3.16227766 3.31662479 3.46410162 3.60555128 3.74165739]]\n",
      "Explonencial:  [[1.00000000e+00 2.71828183e+00 7.38905610e+00 2.00855369e+01\n",
      "  5.45981500e+01]\n",
      " [1.48413159e+02 4.03428793e+02 1.09663316e+03 2.98095799e+03\n",
      "  8.10308393e+03]\n",
      " [2.20264658e+04 5.98741417e+04 1.62754791e+05 4.42413392e+05\n",
      "  1.20260428e+06]]\n"
     ]
    }
   ],
   "source": [
    "#Raiz cuadrada\n",
    "print(f\"Raiz: \", np.sqrt(lista))\n",
    "\n",
    "print(f\"Explonencial: \", np.exp(lista))"
   ]
  },
  {
   "cell_type": "code",
   "execution_count": 43,
   "metadata": {},
   "outputs": [
    {
     "data": {
      "text/plain": [
       "array([-0.06068952,  0.90219827, -0.46695317])"
      ]
     },
     "execution_count": 43,
     "metadata": {},
     "output_type": "execute_result"
    }
   ],
   "source": [
    "#Funciones unutarias\n",
    "x=rng.standard_normal(3)\n",
    "x\n",
    "y=rng.standard_normal(3)\n",
    "y\n",
    "np.maximum(x, y)"
   ]
  },
  {
   "cell_type": "code",
   "execution_count": 48,
   "metadata": {},
   "outputs": [
    {
     "data": {
      "text/plain": [
       "array([-4.79494157, -6.04694143, -7.06146007,  2.70773415,  3.75969698,\n",
       "       -3.2938016 , -6.14337493])"
      ]
     },
     "execution_count": 48,
     "metadata": {},
     "output_type": "execute_result"
    }
   ],
   "source": [
    "#Usando np.modf que es una version vectorizada del anterior\n",
    "arr=rng.standard_normal(7) * 5\n",
    "arr\n"
   ]
  },
  {
   "cell_type": "code",
   "execution_count": 52,
   "metadata": {},
   "outputs": [
    {
     "name": "stdout",
     "output_type": "stream",
     "text": [
      "[-0.79494157 -0.04694143 -0.06146007  0.70773415  0.75969698 -0.2938016\n",
      " -0.14337493]\n",
      "[-4. -6. -7.  2.  3. -3. -6.]\n"
     ]
    }
   ],
   "source": [
    "remainder, whole_part = np.modf(arr)\n",
    "print(remainder)\n",
    "print(whole_part)"
   ]
  },
  {
   "cell_type": "markdown",
   "metadata": {},
   "source": [
    "## Programación orientada a arrayscon arrays\n",
    "Como ejemplo sencillo, supongamos que queremos evaluar la función\n",
    "sqrt(x^2 + y^2) a lo largo de una cuadrícula de valores. La función\n",
    "numpy.meshgrid toma dos arrays unidimensionales y produce dos matrices\n",
    "bidimensionales que corresponden a todos los pares de (x, y) de los dos\n",
    "arrays:\n"
   ]
  },
  {
   "cell_type": "code",
   "execution_count": 54,
   "metadata": {},
   "outputs": [
    {
     "data": {
      "text/plain": [
       "array([[-5.  , -5.  , -5.  , ..., -5.  , -5.  , -5.  ],\n",
       "       [-4.99, -4.99, -4.99, ..., -4.99, -4.99, -4.99],\n",
       "       [-4.98, -4.98, -4.98, ..., -4.98, -4.98, -4.98],\n",
       "       ...,\n",
       "       [ 4.97,  4.97,  4.97, ...,  4.97,  4.97,  4.97],\n",
       "       [ 4.98,  4.98,  4.98, ...,  4.98,  4.98,  4.98],\n",
       "       [ 4.99,  4.99,  4.99, ...,  4.99,  4.99,  4.99]])"
      ]
     },
     "execution_count": 54,
     "metadata": {},
     "output_type": "execute_result"
    }
   ],
   "source": [
    "puntos= np.arange(-5, 5, 0.01) #100 puntos\n",
    "xs, ys = np.meshgrid(puntos, puntos)\n",
    "ys\n"
   ]
  },
  {
   "cell_type": "markdown",
   "metadata": {},
   "source": [
    "Ahora, evaluar la función es cuestión de escribir la misma expresión que\n",
    "escribiríamos con dos puntos:"
   ]
  },
  {
   "cell_type": "code",
   "execution_count": 55,
   "metadata": {},
   "outputs": [
    {
     "data": {
      "text/plain": [
       "array([[7.07106781, 7.06400028, 7.05693985, ..., 7.04988652, 7.05693985,\n",
       "        7.06400028],\n",
       "       [7.06400028, 7.05692568, 7.04985815, ..., 7.04279774, 7.04985815,\n",
       "        7.05692568],\n",
       "       [7.05693985, 7.04985815, 7.04278354, ..., 7.03571603, 7.04278354,\n",
       "        7.04985815],\n",
       "       ...,\n",
       "       [7.04988652, 7.04279774, 7.03571603, ..., 7.0286414 , 7.03571603,\n",
       "        7.04279774],\n",
       "       [7.05693985, 7.04985815, 7.04278354, ..., 7.03571603, 7.04278354,\n",
       "        7.04985815],\n",
       "       [7.06400028, 7.05692568, 7.04985815, ..., 7.04279774, 7.04985815,\n",
       "        7.05692568]])"
      ]
     },
     "execution_count": 55,
     "metadata": {},
     "output_type": "execute_result"
    }
   ],
   "source": [
    "z= np.sqrt(xs**2 + ys**2)\n",
    "z"
   ]
  },
  {
   "cell_type": "code",
   "execution_count": 65,
   "metadata": {},
   "outputs": [
    {
     "data": {
      "text/plain": [
       "Text(0.5, 1.0, 'Image plot of $\\\\sqrt{x^2+ y^2}$ for a grid of values')"
      ]
     },
     "execution_count": 65,
     "metadata": {},
     "output_type": "execute_result"
    },
    {
     "data": {
      "image/png": "[encoded data removed]",
      "text/plain": [
       "<Figure size 640x480 with 2 Axes>"
      ]
     },
     "metadata": {},
     "output_type": "display_data"
    }
   ],
   "source": [
    "import matplotlib.pyplot as plt\n",
    "plt.imshow(z, cmap=plt.cm.gray, extent=[-5, 5, -5,5])\n",
    "plt.colorbar()\n",
    "plt.title(\"Image plot of $\\sqrt{x^2+ y^2}$ for a grid of values\")\n"
   ]
  },
  {
   "cell_type": "code",
   "execution_count": 66,
   "metadata": {},
   "outputs": [],
   "source": [
    "\n",
    "plt.close()"
   ]
  },
  {
   "cell_type": "code",
   "execution_count": 67,
   "metadata": {},
   "outputs": [
    {
     "data": {
      "text/plain": [
       "array([1.1, 2.2, 1.3, 1.4, 2.5])"
      ]
     },
     "execution_count": 67,
     "metadata": {},
     "output_type": "execute_result"
    }
   ],
   "source": [
    "xarr = np.array([1.1, 1.2, 1.3, 1.4, 1.5])\n",
    "yarr = np.array([2.1, 2.2, 2.3, 2.4, 2.5])\n",
    "cond = np.array([True, False, True, True, False])\n",
    "result = np.where(cond, xarr, yarr)\n",
    "result\n"
   ]
  },
  {
   "cell_type": "markdown",
   "metadata": {},
   "source": [
    "## Métodosmatemáticosy estadísticos"
   ]
  },
  {
   "cell_type": "code",
   "execution_count": 69,
   "metadata": {},
   "outputs": [
    {
     "data": {
      "text/plain": [
       "array([[ 0.25755777,  0.31290292, -0.13081169,  1.26998312],\n",
       "       [-0.09296246, -0.06615089, -1.10821447,  0.13595685],\n",
       "       [ 1.34707776,  0.06114402,  0.0709146 ,  0.43365454],\n",
       "       [ 0.27748366,  0.53025239,  0.53672097,  0.61835001],\n",
       "       [-0.79501746,  0.30003095, -1.60270159,  0.26679883]])"
      ]
     },
     "execution_count": 69,
     "metadata": {},
     "output_type": "execute_result"
    }
   ],
   "source": [
    "valores= rng.standard_normal((5, 4))\n",
    "valores"
   ]
  },
  {
   "cell_type": "code",
   "execution_count": 70,
   "metadata": {},
   "outputs": [
    {
     "data": {
      "text/plain": [
       "0.13114849172877924"
      ]
     },
     "execution_count": 70,
     "metadata": {},
     "output_type": "execute_result"
    }
   ],
   "source": [
    "#Media\n",
    "valores.mean()"
   ]
  },
  {
   "cell_type": "code",
   "execution_count": 71,
   "metadata": {},
   "outputs": [
    {
     "data": {
      "text/plain": [
       "2.622969834575585"
      ]
     },
     "execution_count": 71,
     "metadata": {},
     "output_type": "execute_result"
    }
   ],
   "source": [
    "#Sumatoria / promedio \n",
    "valores.sum()"
   ]
  },
  {
   "cell_type": "code",
   "execution_count": 72,
   "metadata": {},
   "outputs": [
    {
     "name": "stdout",
     "output_type": "stream",
     "text": [
      "Media en filas: [ 0.19882786  0.22763588 -0.44681844  0.54494867]\n",
      "Promedio en filas: [ 0.99413928  1.13817938 -2.23409218  2.72474335]\n",
      "Media en columnas: [ 0.42740803 -0.28284274  0.47819773  0.49070176 -0.45772232]\n",
      "Promedio en columnas: [ 1.70963212 -1.13137096  1.91279092  1.96280703 -1.83088927]\n"
     ]
    }
   ],
   "source": [
    "#Calculando los mismos pero ahora en filas y columnas por separado\n",
    "print(f\"Media en filas: {valores.mean(axis=0)}\")\n",
    "print(f\"Promedio en filas: {valores.sum(axis=0)}\")\n",
    "print(f\"Media en columnas: {valores.mean(axis=1)}\")\n",
    "print(f\"Promedio en columnas: {valores.sum(axis=1)}\")\n"
   ]
  },
  {
   "cell_type": "code",
   "execution_count": 73,
   "metadata": {},
   "outputs": [
    {
     "name": "stdout",
     "output_type": "stream",
     "text": [
      "suma acumulada en filas: [[ 0.25755777  0.31290292 -0.13081169  1.26998312]\n",
      " [ 0.16459531  0.24675203 -1.23902616  1.40593997]\n",
      " [ 1.51167307  0.30789605 -1.16811156  1.83959451]\n",
      " [ 1.78915673  0.83814844 -0.63139059  2.45794452]\n",
      " [ 0.99413928  1.13817938 -2.23409218  2.72474335]]\n",
      "suma acumulada en columnas: [[ 0.25755777  0.57046069  0.439649    1.70963212]\n",
      " [-0.09296246 -0.15911335 -1.26732781 -1.13137096]\n",
      " [ 1.34707776  1.40822179  1.47913639  1.91279092]\n",
      " [ 0.27748366  0.80773605  1.34445702  1.96280703]\n",
      " [-0.79501746 -0.49498651 -2.0976881  -1.83088927]]\n"
     ]
    }
   ],
   "source": [
    "#Suma acumulada\n",
    "print(f\"suma acumulada en filas: {valores.cumsum(axis=0)}\")\n",
    "print(f\"suma acumulada en columnas: {valores.cumsum(axis=1)}\")"
   ]
  },
  {
   "cell_type": "code",
   "execution_count": 78,
   "metadata": {},
   "outputs": [
    {
     "name": "stdout",
     "output_type": "stream",
     "text": [
      "arreglo: [  5 -10   7   1   0  -3]\n",
      "arreglo ordenado: [-10  -3   0   1   5   7]\n"
     ]
    }
   ],
   "source": [
    "#ordenar arrays\n",
    "arr2 = np.array([5, -10, 7, 1, 0, -3])\n",
    "print(f\"arreglo: {arr2}\")\n",
    "sorted_arr2 = np.sort(arr2)\n",
    "print(f\"arreglo ordenado: {sorted_arr2}\")"
   ]
  },
  {
   "cell_type": "code",
   "execution_count": 79,
   "metadata": {},
   "outputs": [
    {
     "data": {
      "text/plain": [
       "array(['Aldo', 'Berenice', 'Casandra', 'Melody'], dtype='<U8')"
      ]
     },
     "execution_count": 79,
     "metadata": {},
     "output_type": "execute_result"
    }
   ],
   "source": [
    "#Unique\n",
    "nombres_alu=np.array([\"Aldo\", \"Casandra\", \"Melody\", \"Berenice\", \"Aldo\", \"Berenice\", \"Aldo\", \"Aldo\"])\n",
    "np.unique(nombres_alu)"
   ]
  },
  {
   "cell_type": "code",
   "execution_count": 80,
   "metadata": {},
   "outputs": [
    {
     "data": {
      "text/plain": [
       "['Aldo', 'Berenice', 'Casandra', 'Melody']"
      ]
     },
     "execution_count": 80,
     "metadata": {},
     "output_type": "execute_result"
    }
   ],
   "source": [
    "#Tambien python lo puede hacer de forma nativa\n",
    "sorted(set(nombres_alu))"
   ]
  },
  {
   "cell_type": "markdown",
   "metadata": {},
   "source": [
    "## Entrada y salida de archivos con arrays\n",
    "NumPy es capaz de guardar y cargar datos en disco en varios formatos\n",
    "de texto o binarios. "
   ]
  },
  {
   "cell_type": "code",
   "execution_count": null,
   "metadata": {},
   "outputs": [],
   "source": [
    "\"\"\" \n",
    "Los arrays se guardan por omisión en un formato binario sin procesar y no comprimido con la\n",
    "extensión .npy:\n",
    "\"\"\"\n",
    "np.save(\"Holi\", nombres_alu)\n",
    "np.load(\"Holi\")"
   ]
  },
  {
   "cell_type": "markdown",
   "metadata": {},
   "source": [
    "## Álgebra lineal\n",
    "Multiplicar dos arrays bidimensionales con * es un producto elemento a\n",
    "elemento, mientras que las multiplicaciones de matrices requieren el uso de\n",
    "una función. Así, para la multiplicación de matrices existe una función dot,\n",
    "un método array y una función en el espacio de nombres numpy:"
   ]
  },
  {
   "cell_type": "code",
   "execution_count": 83,
   "metadata": {},
   "outputs": [
    {
     "data": {
      "text/plain": [
       "array([ 9., 24.])"
      ]
     },
     "execution_count": 83,
     "metadata": {},
     "output_type": "execute_result"
    }
   ],
   "source": [
    "x= np.array([[1, 3, 5], [5, 9, 10]])\n",
    "y= np.array([[2, 5], [5, 19], [8, 6]])\n",
    "x.dot(y) # x.dot(y) es equivalente a np.dot(x, y):\n",
    "x\n",
    "x @ np.ones(3)"
   ]
  },
  {
   "cell_type": "code",
   "execution_count": 85,
   "metadata": {},
   "outputs": [
    {
     "data": {
      "text/plain": [
       "array([[ 4.93394297, -0.72645193, -3.21414169,  3.090467  ,  1.82357549],\n",
       "       [-0.72645193,  0.88556615,  0.10098915, -0.37025602,  0.47520264],\n",
       "       [-3.21414169,  0.10098915,  2.5736169 , -2.01622771, -1.59320324],\n",
       "       [ 3.090467  , -0.37025602, -2.01622771,  2.15754281,  1.30748518],\n",
       "       [ 1.82357549,  0.47520264, -1.59320324,  1.30748518,  1.81030838]])"
      ]
     },
     "execution_count": 85,
     "metadata": {},
     "output_type": "execute_result"
    }
   ],
   "source": [
    "\"\"\"numpy.linalg tiene un conjunto estándar de descomposiciones\n",
    "matriciales, y utilidades como la inversa y el determinante: \n",
    "\"\"\"\n",
    "from numpy.linalg import inv, qr\n",
    "X =rng.standard_normal((5, 5))\n",
    "mat= X.T @ X\n",
    "inv(mat)"
   ]
  },
  {
   "cell_type": "code",
   "execution_count": 86,
   "metadata": {},
   "outputs": [
    {
     "data": {
      "text/plain": [
       "array([[ 1.00000000e+00, -6.93889390e-17, -5.55111512e-17,\n",
       "         1.38777878e-15, -1.11022302e-16],\n",
       "       [ 8.88178420e-16,  1.00000000e+00, -8.88178420e-16,\n",
       "        -8.88178420e-16, -4.44089210e-16],\n",
       "       [ 2.22044605e-16,  1.66533454e-16,  1.00000000e+00,\n",
       "        -3.33066907e-16, -4.44089210e-16],\n",
       "       [-1.33226763e-15,  1.11022302e-16,  8.88178420e-16,\n",
       "         1.00000000e+00,  4.44089210e-16],\n",
       "       [-1.77635684e-15,  2.22044605e-16,  8.88178420e-16,\n",
       "        -4.44089210e-16,  1.00000000e+00]])"
      ]
     },
     "execution_count": 86,
     "metadata": {},
     "output_type": "execute_result"
    }
   ],
   "source": [
    "mat @ inv(mat)\n",
    "\"\"\" La expresión X.T.dot(X) calcula el producto punto de X con su\n",
    "transposición X.T\n",
    "\"\"\""
   ]
  }
 ],
 "metadata": {
  "kernelspec": {
   "display_name": "Python 3",
   "language": "python",
   "name": "python3"
  },
  "language_info": {
   "codemirror_mode": {
    "name": "ipython",
    "version": 3
   },
   "file_extension": ".py",
   "mimetype": "text/x-python",
   "name": "python",
   "nbconvert_exporter": "python",
   "pygments_lexer": "ipython3",
   "version": "3.9.13"
  }
 },
 "nbformat": 4,
 "nbformat_minor": 2
}
